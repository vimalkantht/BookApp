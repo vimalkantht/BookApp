{
  "nbformat": 4,
  "nbformat_minor": 0,
  "metadata": {
    "colab": {
      "provenance": [],
      "collapsed_sections": [],
      "authorship_tag": "ABX9TyMqePEArMd722+tLLsmpbvg",
      "include_colab_link": true
    },
    "kernelspec": {
      "name": "python3",
      "display_name": "Python 3"
    },
    "language_info": {
      "name": "python"
    }
  },
  "cells": [
    {
      "cell_type": "markdown",
      "metadata": {
        "id": "view-in-github",
        "colab_type": "text"
      },
      "source": [
        "<a href=\"https://colab.research.google.com/github/vimalkantht/BookApp/blob/master/python_practice2.ipynb\" target=\"_parent\"><img src=\"https://colab.research.google.com/assets/colab-badge.svg\" alt=\"Open In Colab\"/></a>"
      ]
    },
    {
      "cell_type": "code",
      "execution_count": 2,
      "metadata": {
        "colab": {
          "base_uri": "https://localhost:8080/"
        },
        "id": "5m4pw-sNkEYH",
        "outputId": "ca91c569-dc8e-491d-fc03-9d5ea36d83d4"
      },
      "outputs": [
        {
          "output_type": "stream",
          "name": "stdout",
          "text": [
            "[76, 43, 54, 21, 54, 65, 12]\n"
          ]
        }
      ],
      "source": [
        "## 1. reverse a first and last element in a list\n",
        "\n",
        "a = [12,43,54,21,54,65,76]\n",
        "\n",
        "def f1(st1):\n",
        "  t =0\n",
        "  t,st1[0],st1[len(a)-1] = st1[0],st1[len(a) - 1],st1[0]\n",
        "  return st1\n",
        "print(f1(a))\n"
      ]
    },
    {
      "cell_type": "code",
      "source": [
        "## sq of each ele in the list\n",
        "list_1 = [1,3,13,91,100,200]\n",
        "\n",
        "for i in list_1:\n",
        "  print(i*i)"
      ],
      "metadata": {
        "colab": {
          "base_uri": "https://localhost:8080/"
        },
        "id": "SBcGm47Ak0uX",
        "outputId": "28d8a22b-ff7a-446b-8358-5fb0855cc7a2"
      },
      "execution_count": 1,
      "outputs": [
        {
          "output_type": "stream",
          "name": "stdout",
          "text": [
            "1\n",
            "9\n",
            "169\n",
            "8281\n",
            "10000\n",
            "40000\n"
          ]
        }
      ]
    },
    {
      "cell_type": "code",
      "source": [
        "## print full triangle using *\n",
        "## 100\n",
        "## 010\n",
        "## 001\n",
        "\n",
        "for i in range(2):\n",
        "  for j in range(2):\n",
        "    if i==j :\n",
        "      print('1', end = '')\n",
        "    else:\n",
        "      print('0', end= '')\n",
        "    print(end='')"
      ],
      "metadata": {
        "id": "vC9ue9AcIkEM"
      },
      "execution_count": null,
      "outputs": []
    },
    {
      "cell_type": "code",
      "source": [
        "print('hi')"
      ],
      "metadata": {
        "colab": {
          "base_uri": "https://localhost:8080/"
        },
        "id": "gSTkT3CFJg1O",
        "outputId": "3a99f6a4-42d8-4db2-cb1a-5ebdf43fe600"
      },
      "execution_count": 3,
      "outputs": [
        {
          "output_type": "stream",
          "name": "stdout",
          "text": [
            "hi\n"
          ]
        }
      ]
    },
    {
      "cell_type": "code",
      "source": [],
      "metadata": {
        "id": "7P6dsqyrJ2Sh"
      },
      "execution_count": null,
      "outputs": []
    }
  ]
}