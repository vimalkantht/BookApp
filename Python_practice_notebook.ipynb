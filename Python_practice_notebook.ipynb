{
  "nbformat": 4,
  "nbformat_minor": 0,
  "metadata": {
    "colab": {
      "provenance": [],
      "authorship_tag": "ABX9TyN3YQkDVlZOBnjpf3C4UYAY",
      "include_colab_link": true
    },
    "kernelspec": {
      "name": "python3",
      "display_name": "Python 3"
    },
    "language_info": {
      "name": "python"
    }
  },
  "cells": [
    {
      "cell_type": "markdown",
      "metadata": {
        "id": "view-in-github",
        "colab_type": "text"
      },
      "source": [
        "<a href=\"https://colab.research.google.com/github/vimalkantht/BookApp/blob/master/Python_practice_notebook.ipynb\" target=\"_parent\"><img src=\"https://colab.research.google.com/assets/colab-badge.svg\" alt=\"Open In Colab\"/></a>"
      ]
    },
    {
      "cell_type": "code",
      "execution_count": 3,
      "metadata": {
        "colab": {
          "base_uri": "https://localhost:8080/"
        },
        "id": "x1k3v8qSG6Nd",
        "outputId": "2d5894a4-a4f2-4e24-bec8-4d65c6a4fb6d"
      },
      "outputs": [
        {
          "output_type": "stream",
          "name": "stdout",
          "text": [
            "enter a number2\n",
            "Even\n"
          ]
        }
      ],
      "source": [
        "## 1. odd or even\n",
        "number1 = int(input('enter a number'))\n",
        "if number1 % 2 == 0 :\n",
        "  print('Even')\n",
        "else:\n",
        "  print('odd')"
      ]
    },
    {
      "cell_type": "code",
      "source": [
        "## 2. avg of set of int\n",
        "count  =  int(input('enter count of nos'))\n",
        "sum = 0\n",
        "i = 0\n",
        "\n",
        "for i in range(count):\n",
        "  x = int(input('enter no'))\n",
        "  sum = sum + x\n",
        "avg = sum/count\n",
        "print('average',avg)"
      ],
      "metadata": {
        "colab": {
          "base_uri": "https://localhost:8080/"
        },
        "id": "Jzifej1nIh5c",
        "outputId": "3f47f84e-2fbb-4c7b-edbe-94d466b2586c"
      },
      "execution_count": 4,
      "outputs": [
        {
          "output_type": "stream",
          "name": "stdout",
          "text": [
            "enter count of nos5\n",
            "enter no1\n",
            "enter no2\n",
            "enter no3\n",
            "enter no4\n",
            "enter no5\n",
            "average 3.0\n"
          ]
        }
      ]
    },
    {
      "cell_type": "code",
      "source": [
        "## product of real numbers\n",
        "count = int(input('enter count of nos'))\n",
        "product = 1\n",
        "for i in range (count):\n",
        "  y = int(input('enter real nos'))\n",
        "  product = product * y\n",
        "print('product',product)"
      ],
      "metadata": {
        "colab": {
          "base_uri": "https://localhost:8080/"
        },
        "id": "07jsG97nKPtB",
        "outputId": "5d73f744-b31a-4a8d-a0c1-56a4498ee1a1"
      },
      "execution_count": 5,
      "outputs": [
        {
          "output_type": "stream",
          "name": "stdout",
          "text": [
            "enter count of nos5\n",
            "enter real nos-1\n",
            "enter real nos5\n",
            "enter real nos3\n",
            "enter real nos-6\n",
            "enter real nos2\n",
            "product 180\n"
          ]
        }
      ]
    },
    {
      "cell_type": "code",
      "source": [],
      "metadata": {
        "id": "ebvST35gK9qP"
      },
      "execution_count": 6,
      "outputs": []
    },
    {
      "cell_type": "code",
      "source": [],
      "metadata": {
        "id": "bz8FJe0ILWz3"
      },
      "execution_count": null,
      "outputs": []
    }
  ]
}