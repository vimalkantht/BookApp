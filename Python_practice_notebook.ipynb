{
  "nbformat": 4,
  "nbformat_minor": 0,
  "metadata": {
    "colab": {
      "provenance": [],
      "collapsed_sections": [],
      "authorship_tag": "ABX9TyOCMtm0WSN6q+O8AbhuP/cO",
      "include_colab_link": true
    },
    "kernelspec": {
      "name": "python3",
      "display_name": "Python 3"
    },
    "language_info": {
      "name": "python"
    }
  },
  "cells": [
    {
      "cell_type": "markdown",
      "metadata": {
        "id": "view-in-github",
        "colab_type": "text"
      },
      "source": [
        "<a href=\"https://colab.research.google.com/github/vimalkantht/BookApp/blob/master/Python_practice_notebook.ipynb\" target=\"_parent\"><img src=\"https://colab.research.google.com/assets/colab-badge.svg\" alt=\"Open In Colab\"/></a>"
      ]
    },
    {
      "cell_type": "code",
      "execution_count": 3,
      "metadata": {
        "colab": {
          "base_uri": "https://localhost:8080/"
        },
        "id": "x1k3v8qSG6Nd",
        "outputId": "2d5894a4-a4f2-4e24-bec8-4d65c6a4fb6d"
      },
      "outputs": [
        {
          "output_type": "stream",
          "name": "stdout",
          "text": [
            "enter a number2\n",
            "Even\n"
          ]
        }
      ],
      "source": [
        "## 1. odd or even\n",
        "number1 = int(input('enter a number'))\n",
        "if number1 % 2 == 0 :\n",
        "  print('Even')\n",
        "else:\n",
        "  print('odd')"
      ]
    },
    {
      "cell_type": "code",
      "source": [
        "## 2. avg of set of int\n",
        "count  =  int(input('enter count of nos'))\n",
        "sum = 0\n",
        "i = 0\n",
        "\n",
        "for i in range(count):\n",
        "  x = int(input('enter no'))\n",
        "  sum = sum + x\n",
        "avg = sum/count\n",
        "print('average',avg)"
      ],
      "metadata": {
        "colab": {
          "base_uri": "https://localhost:8080/"
        },
        "id": "Jzifej1nIh5c",
        "outputId": "3f47f84e-2fbb-4c7b-edbe-94d466b2586c"
      },
      "execution_count": 4,
      "outputs": [
        {
          "output_type": "stream",
          "name": "stdout",
          "text": [
            "enter count of nos5\n",
            "enter no1\n",
            "enter no2\n",
            "enter no3\n",
            "enter no4\n",
            "enter no5\n",
            "average 3.0\n"
          ]
        }
      ]
    },
    {
      "cell_type": "code",
      "source": [
        "## 3. product of real numbers\n",
        "count = int(input('enter count of nos'))\n",
        "product = 1\n",
        "for i in range (count):\n",
        "  y = int(input('enter real nos'))\n",
        "  product = product * y\n",
        "print('product',product)"
      ],
      "metadata": {
        "colab": {
          "base_uri": "https://localhost:8080/"
        },
        "id": "07jsG97nKPtB",
        "outputId": "5d73f744-b31a-4a8d-a0c1-56a4498ee1a1"
      },
      "execution_count": 5,
      "outputs": [
        {
          "output_type": "stream",
          "name": "stdout",
          "text": [
            "enter count of nos5\n",
            "enter real nos-1\n",
            "enter real nos5\n",
            "enter real nos3\n",
            "enter real nos-6\n",
            "enter real nos2\n",
            "product 180\n"
          ]
        }
      ]
    },
    {
      "cell_type": "code",
      "source": [
        "## 4. given int is multiple of 5\n",
        "int1 = int(input('Enter the integer'))\n",
        "if int1 % 5 == 0:\n",
        "  print(int1,' is mul of 5')\n",
        "else:\n",
        "  print(int1,'is not a mul of 5')"
      ],
      "metadata": {
        "colab": {
          "base_uri": "https://localhost:8080/"
        },
        "id": "ebvST35gK9qP",
        "outputId": "80d2f1fd-a6c6-4efb-93ae-09b75d50dae9"
      },
      "execution_count": 19,
      "outputs": [
        {
          "output_type": "stream",
          "name": "stdout",
          "text": [
            "Enter the integer1\n",
            "1 is not a mul of 5\n"
          ]
        }
      ]
    },
    {
      "cell_type": "code",
      "source": [
        "## 5.gn no is mul of 5 and 7\n",
        "int2 = int(input('enter a num'))\n",
        "if ((int2 %5 == 0) & (int2 %7==0)):\n",
        "  print(int2,' is a mul of 5 and 7')\n",
        "else:\n",
        "  print(int2,' not mulof 5 and 7')"
      ],
      "metadata": {
        "colab": {
          "base_uri": "https://localhost:8080/"
        },
        "id": "bz8FJe0ILWz3",
        "outputId": "dbb13f38-4066-4c70-ccb9-bc1cd904b1d9"
      },
      "execution_count": 20,
      "outputs": [
        {
          "output_type": "stream",
          "name": "stdout",
          "text": [
            "enter a num35\n",
            "35  is a mul of 5 and 7\n"
          ]
        }
      ]
    },
    {
      "cell_type": "code",
      "source": [
        "## 6. avg of 10 nums in while\n",
        "sum = 0\n",
        "count = 0\n",
        "\n",
        "while (count<10):\n",
        "  x = int(input('enter a number'))\n",
        "  sum = sum + x\n",
        "  count = count+1\n",
        "\n",
        "print('avg of 10 num is', sum/10)\n"
      ],
      "metadata": {
        "colab": {
          "base_uri": "https://localhost:8080/"
        },
        "id": "bOnH077PNNdE",
        "outputId": "4215e539-8355-4872-b29c-10a74e8be744"
      },
      "execution_count": 26,
      "outputs": [
        {
          "output_type": "stream",
          "name": "stdout",
          "text": [
            "enter a number1\n",
            "enter a number1\n",
            "enter a number1\n",
            "enter a number1\n",
            "enter a number1\n",
            "enter a number1\n",
            "enter a number1\n",
            "enter a number1\n",
            "enter a number1\n",
            "enter a number1\n",
            "avg of 10 num is 1.0\n"
          ]
        }
      ]
    },
    {
      "cell_type": "code",
      "source": [
        "## 7. print int in reverse \n",
        "int3 = int(input('enter an integer'))\n",
        "rev = 0\n",
        "while (int3!=0):\n",
        "  dig = int(int3) % 10 \n",
        "  rev = (rev*10)+ dig\n",
        "  int3 = int3//10\n",
        "print(rev)"
      ],
      "metadata": {
        "colab": {
          "base_uri": "https://localhost:8080/"
        },
        "id": "2h-DfjG7O87e",
        "outputId": "bd1b6f6a-2a9c-4b34-8b1c-130339c8c8b5"
      },
      "execution_count": 39,
      "outputs": [
        {
          "output_type": "stream",
          "name": "stdout",
          "text": [
            "enter an integer21314\n",
            "41312\n"
          ]
        }
      ]
    },
    {
      "cell_type": "code",
      "source": [
        "## 8. PRINT SUM OF THE DIGITS\n",
        "int4 = int(input('enter a number'))\n",
        "val = 0\n",
        "while(int4!=0):\n",
        "  dig = int4 % 10\n",
        "  val = val + dig\n",
        "  int4 = int4//10\n",
        "\n",
        "print(val)\n"
      ],
      "metadata": {
        "colab": {
          "base_uri": "https://localhost:8080/"
        },
        "id": "BxFQafdfQD4T",
        "outputId": "c682ca06-6f70-4ba0-a700-043f3bff3b80"
      },
      "execution_count": 42,
      "outputs": [
        {
          "output_type": "stream",
          "name": "stdout",
          "text": [
            "enter a number12345\n",
            "15\n"
          ]
        }
      ]
    },
    {
      "cell_type": "code",
      "source": [
        "## 9. print all the mul of 3 bet 10 to 50\n",
        "\n",
        "for i in range(10,50):\n",
        "  if i % 3 == 0:\n",
        "    print(i)"
      ],
      "metadata": {
        "colab": {
          "base_uri": "https://localhost:8080/"
        },
        "id": "OBGOKNmYbbGw",
        "outputId": "61f6c7cd-87c1-4086-afc6-22ccb781b4b5"
      },
      "execution_count": 43,
      "outputs": [
        {
          "output_type": "stream",
          "name": "stdout",
          "text": [
            "12\n",
            "15\n",
            "18\n",
            "21\n",
            "24\n",
            "27\n",
            "30\n",
            "33\n",
            "36\n",
            "39\n",
            "42\n",
            "45\n",
            "48\n"
          ]
        }
      ]
    },
    {
      "cell_type": "code",
      "source": [
        "## 10. print the nums bet 100 to 200 whose sum dig is even\n",
        "\n",
        "\n",
        "for i in range(100,150):\n",
        "  sum = 0\n",
        "  num = i\n",
        "  while(num!=0):\n",
        "    dig = num % 10\n",
        "    sum = sum + dig\n",
        "    num = num // 10\n",
        "  if sum % 2 == 0:\n",
        "    print(i)  \n"
      ],
      "metadata": {
        "colab": {
          "base_uri": "https://localhost:8080/"
        },
        "id": "Fk34DO7weAMX",
        "outputId": "76cff77b-d802-4c17-8571-ea3b17a391b4"
      },
      "execution_count": 52,
      "outputs": [
        {
          "output_type": "stream",
          "name": "stdout",
          "text": [
            "101\n",
            "103\n",
            "105\n",
            "107\n",
            "109\n",
            "110\n",
            "112\n",
            "114\n",
            "116\n",
            "118\n",
            "121\n",
            "123\n",
            "125\n",
            "127\n",
            "129\n",
            "130\n",
            "132\n",
            "134\n",
            "136\n",
            "138\n",
            "141\n",
            "143\n",
            "145\n",
            "147\n",
            "149\n"
          ]
        }
      ]
    },
    {
      "cell_type": "code",
      "source": [
        "## 11. gvn num is prime or not\n",
        "\n",
        "num = int(input('enter a num'))\n",
        "isprime = 0\n",
        "for i in range(2,num):\n",
        "  if num % i == 0:\n",
        "    isprime = 1\n",
        "    break\n",
        "\n",
        "if isprime == 1:\n",
        "  print('not a prime')\n",
        "else:\n",
        "  print('prime')"
      ],
      "metadata": {
        "colab": {
          "base_uri": "https://localhost:8080/"
        },
        "id": "y25HZe_3hokA",
        "outputId": "5fcb7dc6-1800-44f2-9c8f-75604eb2bd4e"
      },
      "execution_count": 60,
      "outputs": [
        {
          "output_type": "stream",
          "name": "stdout",
          "text": [
            "enter a num11\n",
            "prime\n"
          ]
        }
      ]
    },
    {
      "cell_type": "code",
      "source": [
        "## 12. print prime num from 1 to n\n",
        "prm =0\n",
        "num = int(input('Enter count'))\n",
        "\n",
        "for n in range(2,num):\n",
        "  for i in range(2,n):\n",
        "    if n % i ==0:\n",
        "      break\n",
        "  else:\n",
        "      print(n)\n",
        "\n",
        "\n"
      ],
      "metadata": {
        "colab": {
          "base_uri": "https://localhost:8080/"
        },
        "id": "QifZ24rqkPc4",
        "outputId": "707e8d0e-e33d-4055-a96d-2d226aa89b0e"
      },
      "execution_count": 73,
      "outputs": [
        {
          "output_type": "stream",
          "name": "stdout",
          "text": [
            "Enter count19\n",
            "2\n",
            "3\n",
            "5\n",
            "7\n",
            "11\n",
            "13\n",
            "17\n"
          ]
        }
      ]
    },
    {
      "cell_type": "code",
      "source": [
        "## 13. FIND ODD NUMBERS IN AN ARRAY \n",
        "a = [10,32,43,54,65,63,99]\n",
        "\n",
        "for i in range(len(a)):\n",
        "  if a[i] % 2 != 0:\n",
        "    print(a[i])"
      ],
      "metadata": {
        "colab": {
          "base_uri": "https://localhost:8080/"
        },
        "id": "vdIb0tDjnBko",
        "outputId": "a3277ed5-237c-4c8e-951c-301ef6df7b29"
      },
      "execution_count": 4,
      "outputs": [
        {
          "output_type": "stream",
          "name": "stdout",
          "text": [
            "43\n",
            "65\n",
            "63\n",
            "99\n"
          ]
        }
      ]
    },
    {
      "cell_type": "code",
      "source": [
        "## 14. find largest number in the list\n",
        "a = [10,32,43,106,65,63,99]\n",
        "lar = 0\n",
        "for i in range(len(a)):\n",
        "  if a[i] > lar:\n",
        "    lar = a[i]\n",
        "  \n",
        "print(lar)"
      ],
      "metadata": {
        "colab": {
          "base_uri": "https://localhost:8080/"
        },
        "id": "krgDmgZ6JiVg",
        "outputId": "0f19cd62-dc8b-4a95-feba-f57bb8bb2bd8"
      },
      "execution_count": 7,
      "outputs": [
        {
          "output_type": "stream",
          "name": "stdout",
          "text": [
            "106\n"
          ]
        }
      ]
    },
    {
      "cell_type": "code",
      "source": [
        "## 15. insert a number at any psoition in a list\n",
        "a = [10,32,43,54,65,63,99]\n",
        "\n",
        "num1 = int(input('enter a number'))\n",
        "pos= int(input('enter its position'))\n",
        "\n",
        "a[pos] = num1\n",
        "print(a)"
      ],
      "metadata": {
        "colab": {
          "base_uri": "https://localhost:8080/"
        },
        "id": "6_KVOu8wKZXz",
        "outputId": "d833417e-74ec-4dc8-a9a7-d8bd6840d9f8"
      },
      "execution_count": 10,
      "outputs": [
        {
          "output_type": "stream",
          "name": "stdout",
          "text": [
            "enter a number7\n",
            "enter its position2\n",
            "[10, 32, 7, 54, 65, 63, 99]\n"
          ]
        }
      ]
    },
    {
      "cell_type": "code",
      "source": [
        "num1 = int(input('enter a number'))\n",
        "pos= int(input('enter its position'))\n",
        "\n",
        "a.insert(pos,num1)\n",
        "print(a)"
      ],
      "metadata": {
        "colab": {
          "base_uri": "https://localhost:8080/"
        },
        "id": "cIcc-mR7LNKK",
        "outputId": "15fef69a-4609-4c7d-fae2-200a2e74dd6f"
      },
      "execution_count": 11,
      "outputs": [
        {
          "output_type": "stream",
          "name": "stdout",
          "text": [
            "enter a number2\n",
            "enter its position1\n",
            "[10, 2, 32, 7, 54, 65, 63, 99]\n"
          ]
        }
      ]
    },
    {
      "cell_type": "code",
      "source": [
        "## 16. delete a number from the list\n",
        "b = int(input('enter the no to be deleted'))\n",
        "\n",
        "a.remove(b)\n",
        "print(a)"
      ],
      "metadata": {
        "colab": {
          "base_uri": "https://localhost:8080/"
        },
        "id": "XdhJIM8cLsZY",
        "outputId": "031381c2-acc0-47b3-fbd9-5730927ecc3f"
      },
      "execution_count": 16,
      "outputs": [
        {
          "output_type": "stream",
          "name": "stdout",
          "text": [
            "enter the no to be deleted7\n",
            "[10, 32, 54, 65, 63]\n"
          ]
        }
      ]
    },
    {
      "cell_type": "code",
      "source": [
        "## 17. enter a strg to check its palindrome or not\n",
        "st = input('enter a string')\n",
        "\n",
        "ls = list(reversed(st))\n",
        "\n",
        "s = ''\n",
        "for e in ls:\n",
        "  s += e \n",
        "print(s)\n",
        "\n",
        "s[::-1]"
      ],
      "metadata": {
        "colab": {
          "base_uri": "https://localhost:8080/",
          "height": 70
        },
        "id": "vk5A8zKSMBo_",
        "outputId": "2582bc22-5817-4203-ac5a-84975639244a"
      },
      "execution_count": 29,
      "outputs": [
        {
          "output_type": "stream",
          "name": "stdout",
          "text": [
            "enter a stringvimal\n",
            "lamiv\n"
          ]
        },
        {
          "output_type": "execute_result",
          "data": {
            "text/plain": [
              "'vimal'"
            ],
            "application/vnd.google.colaboratory.intrinsic+json": {
              "type": "string"
            }
          },
          "metadata": {},
          "execution_count": 29
        }
      ]
    },
    {
      "cell_type": "code",
      "source": [
        "## 18. print all the elements in the dict\n",
        "phone_book = {\n",
        "'John' : [ '8592970000', 'john@xyzmail.com' ],\n",
        "'Bob': [ '7994880000', 'bob@xyzmail.com' ],\n",
        "'Tom' : [ '9749552647' , 'tom@xyzmail.com' ]\n",
        "}\n",
        "\n",
        "for k,v in phone_book.items():\n",
        "  print(k , ':' , v)"
      ],
      "metadata": {
        "colab": {
          "base_uri": "https://localhost:8080/"
        },
        "id": "its_qwGNMpt_",
        "outputId": "5b4f9d57-f7c7-4964-ea25-2969bb080af0"
      },
      "execution_count": 30,
      "outputs": [
        {
          "output_type": "stream",
          "name": "stdout",
          "text": [
            "John : ['8592970000', 'john@xyzmail.com']\n",
            "Bob : ['7994880000', 'bob@xyzmail.com']\n",
            "Tom : ['9749552647', 'tom@xyzmail.com']\n"
          ]
        }
      ]
    },
    {
      "cell_type": "code",
      "source": [
        "## 19. sort using for loop\n",
        "\n",
        "a = [10,32,43,54,65,63,99]\n",
        "\n",
        "srt = []\n",
        "while(a):\n",
        "  min = a[0]\n",
        "  for i in a:\n",
        "    if i < min:\n",
        "      min = i\n",
        "  srt.append(min)\n",
        "  a.remove(min)\n",
        "  \n",
        "print(srt)"
      ],
      "metadata": {
        "colab": {
          "base_uri": "https://localhost:8080/"
        },
        "id": "4PFzE8-XM7n_",
        "outputId": "28bd4556-b0bb-4991-ce36-5d953bf110be"
      },
      "execution_count": 37,
      "outputs": [
        {
          "output_type": "stream",
          "name": "stdout",
          "text": [
            "[10, 32, 43, 54, 63, 65, 99]\n"
          ]
        }
      ]
    },
    {
      "cell_type": "code",
      "source": [],
      "metadata": {
        "id": "ciRs1zqCRsQ-"
      },
      "execution_count": null,
      "outputs": []
    }
  ]
}