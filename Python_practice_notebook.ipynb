{
  "nbformat": 4,
  "nbformat_minor": 0,
  "metadata": {
    "colab": {
      "provenance": [],
      "authorship_tag": "ABX9TyOn1XCxS/+BSRT5+EdtzpO0",
      "include_colab_link": true
    },
    "kernelspec": {
      "name": "python3",
      "display_name": "Python 3"
    },
    "language_info": {
      "name": "python"
    }
  },
  "cells": [
    {
      "cell_type": "markdown",
      "metadata": {
        "id": "view-in-github",
        "colab_type": "text"
      },
      "source": [
        "<a href=\"https://colab.research.google.com/github/vimalkantht/BookApp/blob/master/Python_practice_notebook.ipynb\" target=\"_parent\"><img src=\"https://colab.research.google.com/assets/colab-badge.svg\" alt=\"Open In Colab\"/></a>"
      ]
    },
    {
      "cell_type": "code",
      "execution_count": 3,
      "metadata": {
        "colab": {
          "base_uri": "https://localhost:8080/"
        },
        "id": "x1k3v8qSG6Nd",
        "outputId": "2d5894a4-a4f2-4e24-bec8-4d65c6a4fb6d"
      },
      "outputs": [
        {
          "output_type": "stream",
          "name": "stdout",
          "text": [
            "enter a number2\n",
            "Even\n"
          ]
        }
      ],
      "source": [
        "## 1. odd or even\n",
        "number1 = int(input('enter a number'))\n",
        "if number1 % 2 == 0 :\n",
        "  print('Even')\n",
        "else:\n",
        "  print('odd')"
      ]
    },
    {
      "cell_type": "code",
      "source": [
        "## 2. avg of set of int\n",
        "count  =  int(input('enter count of nos'))\n",
        "sum = 0\n",
        "i = 0\n",
        "\n",
        "for i in range(count):\n",
        "  x = int(input('enter no'))\n",
        "  sum = sum + x\n",
        "avg = sum/count\n",
        "print('average',avg)"
      ],
      "metadata": {
        "colab": {
          "base_uri": "https://localhost:8080/"
        },
        "id": "Jzifej1nIh5c",
        "outputId": "3f47f84e-2fbb-4c7b-edbe-94d466b2586c"
      },
      "execution_count": 4,
      "outputs": [
        {
          "output_type": "stream",
          "name": "stdout",
          "text": [
            "enter count of nos5\n",
            "enter no1\n",
            "enter no2\n",
            "enter no3\n",
            "enter no4\n",
            "enter no5\n",
            "average 3.0\n"
          ]
        }
      ]
    },
    {
      "cell_type": "code",
      "source": [
        "## 3. product of real numbers\n",
        "count = int(input('enter count of nos'))\n",
        "product = 1\n",
        "for i in range (count):\n",
        "  y = int(input('enter real nos'))\n",
        "  product = product * y\n",
        "print('product',product)"
      ],
      "metadata": {
        "colab": {
          "base_uri": "https://localhost:8080/"
        },
        "id": "07jsG97nKPtB",
        "outputId": "5d73f744-b31a-4a8d-a0c1-56a4498ee1a1"
      },
      "execution_count": 5,
      "outputs": [
        {
          "output_type": "stream",
          "name": "stdout",
          "text": [
            "enter count of nos5\n",
            "enter real nos-1\n",
            "enter real nos5\n",
            "enter real nos3\n",
            "enter real nos-6\n",
            "enter real nos2\n",
            "product 180\n"
          ]
        }
      ]
    },
    {
      "cell_type": "code",
      "source": [
        "## 4. given int is multiple of 5\n",
        "int1 = int(input('Enter the integer'))\n",
        "if int1 % 5 == 0:\n",
        "  print(int1,' is mul of 5')\n",
        "else:\n",
        "  print(int1,'is not a mul of 5')"
      ],
      "metadata": {
        "colab": {
          "base_uri": "https://localhost:8080/"
        },
        "id": "ebvST35gK9qP",
        "outputId": "80d2f1fd-a6c6-4efb-93ae-09b75d50dae9"
      },
      "execution_count": 19,
      "outputs": [
        {
          "output_type": "stream",
          "name": "stdout",
          "text": [
            "Enter the integer1\n",
            "1 is not a mul of 5\n"
          ]
        }
      ]
    },
    {
      "cell_type": "code",
      "source": [
        "## 5.gn no is mul of 5 and 7\n",
        "int2 = int(input('enter a num'))\n",
        "if ((int2 %5 == 0) & (int2 %7==0)):\n",
        "  print(int2,' is a mul of 5 and 7')\n",
        "else:\n",
        "  print(int2,' not mulof 5 and 7')"
      ],
      "metadata": {
        "colab": {
          "base_uri": "https://localhost:8080/"
        },
        "id": "bz8FJe0ILWz3",
        "outputId": "dbb13f38-4066-4c70-ccb9-bc1cd904b1d9"
      },
      "execution_count": 20,
      "outputs": [
        {
          "output_type": "stream",
          "name": "stdout",
          "text": [
            "enter a num35\n",
            "35  is a mul of 5 and 7\n"
          ]
        }
      ]
    },
    {
      "cell_type": "code",
      "source": [
        "## 6. avg of 10 nums in while\n",
        "sum = 0\n",
        "count = 0\n",
        "\n",
        "while (count<10):\n",
        "  x = int(input('enter a number'))\n",
        "  sum = sum + x\n",
        "  count = count+1\n",
        "\n",
        "print('avg of 10 num is', sum/10)\n"
      ],
      "metadata": {
        "colab": {
          "base_uri": "https://localhost:8080/"
        },
        "id": "bOnH077PNNdE",
        "outputId": "4215e539-8355-4872-b29c-10a74e8be744"
      },
      "execution_count": 26,
      "outputs": [
        {
          "output_type": "stream",
          "name": "stdout",
          "text": [
            "enter a number1\n",
            "enter a number1\n",
            "enter a number1\n",
            "enter a number1\n",
            "enter a number1\n",
            "enter a number1\n",
            "enter a number1\n",
            "enter a number1\n",
            "enter a number1\n",
            "enter a number1\n",
            "avg of 10 num is 1.0\n"
          ]
        }
      ]
    },
    {
      "cell_type": "code",
      "source": [
        "## 7. print int in reverse \n"
      ],
      "metadata": {
        "id": "2h-DfjG7O87e"
      },
      "execution_count": 27,
      "outputs": []
    },
    {
      "cell_type": "code",
      "source": [],
      "metadata": {
        "id": "BxFQafdfQD4T"
      },
      "execution_count": null,
      "outputs": []
    }
  ]
}